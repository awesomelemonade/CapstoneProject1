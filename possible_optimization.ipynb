{
 "cells": [
  {
   "cell_type": "code",
   "execution_count": 2,
   "metadata": {},
   "outputs": [],
   "source": [
    "import numpy as np\n",
    "test_freq1 = np.arange(20)\n",
    "test_time1 = np.arange(20)"
   ]
  },
  {
   "cell_type": "code",
   "execution_count": 31,
   "metadata": {},
   "outputs": [],
   "source": [
    "def func(freq, time, fanout):\n",
    "    for i in range(1, fanout): # or fanout + 1?\n",
    "        fshifted = freq[i:]\n",
    "        tshifted = time[i:]\n",
    "        out = np.vstack((freq[:fshifted.size], fshifted, tshifted - time[:tshifted.size], time[:tshifted.size])).T\n",
    "        print(list(tuple(map(tuple, out))))"
   ]
  },
  {
   "cell_type": "code",
   "execution_count": 32,
   "metadata": {},
   "outputs": [
    {
     "name": "stdout",
     "output_type": "stream",
     "text": [
      "[(0, 1, 1, 0), (1, 2, 1, 1), (2, 3, 1, 2), (3, 4, 1, 3), (4, 5, 1, 4), (5, 6, 1, 5), (6, 7, 1, 6), (7, 8, 1, 7), (8, 9, 1, 8), (9, 10, 1, 9), (10, 11, 1, 10), (11, 12, 1, 11), (12, 13, 1, 12), (13, 14, 1, 13), (14, 15, 1, 14), (15, 16, 1, 15), (16, 17, 1, 16), (17, 18, 1, 17), (18, 19, 1, 18)]\n",
      "[(0, 2, 2, 0), (1, 3, 2, 1), (2, 4, 2, 2), (3, 5, 2, 3), (4, 6, 2, 4), (5, 7, 2, 5), (6, 8, 2, 6), (7, 9, 2, 7), (8, 10, 2, 8), (9, 11, 2, 9), (10, 12, 2, 10), (11, 13, 2, 11), (12, 14, 2, 12), (13, 15, 2, 13), (14, 16, 2, 14), (15, 17, 2, 15), (16, 18, 2, 16), (17, 19, 2, 17)]\n",
      "[(0, 3, 3, 0), (1, 4, 3, 1), (2, 5, 3, 2), (3, 6, 3, 3), (4, 7, 3, 4), (5, 8, 3, 5), (6, 9, 3, 6), (7, 10, 3, 7), (8, 11, 3, 8), (9, 12, 3, 9), (10, 13, 3, 10), (11, 14, 3, 11), (12, 15, 3, 12), (13, 16, 3, 13), (14, 17, 3, 14), (15, 18, 3, 15), (16, 19, 3, 16)]\n",
      "[(0, 4, 4, 0), (1, 5, 4, 1), (2, 6, 4, 2), (3, 7, 4, 3), (4, 8, 4, 4), (5, 9, 4, 5), (6, 10, 4, 6), (7, 11, 4, 7), (8, 12, 4, 8), (9, 13, 4, 9), (10, 14, 4, 10), (11, 15, 4, 11), (12, 16, 4, 12), (13, 17, 4, 13), (14, 18, 4, 14), (15, 19, 4, 15)]\n"
     ]
    }
   ],
   "source": [
    "#testing\n",
    "func(test_freq1, test_time1, 5)"
   ]
  }
 ],
 "metadata": {
  "kernelspec": {
   "display_name": "Python 3",
   "language": "python",
   "name": "python3"
  },
  "language_info": {
   "codemirror_mode": {
    "name": "ipython",
    "version": 3
   },
   "file_extension": ".py",
   "mimetype": "text/x-python",
   "name": "python",
   "nbconvert_exporter": "python",
   "pygments_lexer": "ipython3",
   "version": "3.6.5"
  }
 },
 "nbformat": 4,
 "nbformat_minor": 2
}
