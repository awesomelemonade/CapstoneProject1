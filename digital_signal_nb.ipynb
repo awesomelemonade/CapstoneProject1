{
 "cells": [
  {
   "cell_type": "code",
   "execution_count": 5,
   "metadata": {},
   "outputs": [],
   "source": [
    "import numpy as np\n",
    "import microphone\n",
    "import librosa"
   ]
  },
  {
   "cell_type": "code",
   "execution_count": 2,
   "metadata": {},
   "outputs": [],
   "source": [
    "def get_microphone_data(listen_time):\n",
    "    '''\n",
    "    Parameters:\n",
    "        listen_time - in seconds\n",
    "    Returns:\n",
    "        audio_data - digital audio signal as numpy array\n",
    "        sampling_rate - in Hertz\n",
    "    '''\n",
    "    frames, sampling_rate = microphone.record_audio(listen_time)\n",
    "    audio_data = np.hstack([np.frombuffer(i, np.int16) for i in frames])\n",
    "    return audio_data, sampling_rate"
   ]
  },
  {
   "cell_type": "code",
   "execution_count": 62,
   "metadata": {},
   "outputs": [],
   "source": [
    "def get_mp3_data(file_path):\n",
    "    '''\n",
    "    Parameters:\n",
    "        file_path - string\n",
    "    Returns:\n",
    "        audio_data - digital audio signal as numpy array\n",
    "        sampling_rate - in Hertz\n",
    "    '''\n",
    "    from pathlib import Path\n",
    "    audio_data, sampling_rate = librosa.load(Path(file_path), sr=44100, mono=True)\n",
    "    audio_data = (audio_data*(2**15)).astype('int16')\n",
    "    return audio_data, sampling_rate"
   ]
  }
 ],
 "metadata": {
  "kernelspec": {
   "display_name": "Python 3",
   "language": "python",
   "name": "python3"
  },
  "language_info": {
   "codemirror_mode": {
    "name": "ipython",
    "version": 3
   },
   "file_extension": ".py",
   "mimetype": "text/x-python",
   "name": "python",
   "nbconvert_exporter": "python",
   "pygments_lexer": "ipython3",
   "version": "3.6.5"
  }
 },
 "nbformat": 4,
 "nbformat_minor": 2
}
