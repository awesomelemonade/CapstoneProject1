{
 "cells": [
  {
   "cell_type": "code",
   "execution_count": 17,
   "metadata": {
    "collapsed": true
   },
   "outputs": [],
   "source": [
    "import numpy as np"
   ]
  },
  {
   "cell_type": "code",
   "execution_count": 40,
   "metadata": {
    "collapsed": true
   },
   "outputs": [],
   "source": [
    "def peaks_to_fingerprints(peaks, fanout):\n",
    "    # gets two arrays, frequency and time. Use np.where on peaks\n",
    "    freqs, times = np.where(peaks)\n",
    "\n",
    "    # creates list to return\n",
    "    keys_times = list()\n",
    "\n",
    "    # for loop for fanout\n",
    "    for j in range(fanout - 1):\n",
    "            keys_times.append(((freqs[j:len(times) - j - 1], freqs[j + 1:len(times) - j], times[j + 1:len(times) - j] - times[j:len(times) - j - 1]),\n",
    "                                times[j:len(times) - j - 1]))\n",
    "    return keys_times"
   ]
  },
  {
   "cell_type": "code",
   "execution_count": 18,
   "metadata": {
    "collapsed": true
   },
   "outputs": [],
   "source": [
    "peaks = np.array([[True, False, False],\n",
    "                  [False, True, False],\n",
    "                  [True, True, False]])"
   ]
  },
  {
   "cell_type": "code",
   "execution_count": 9,
   "metadata": {},
   "outputs": [
    {
     "name": "stdout",
     "output_type": "stream",
     "text": [
      "[0 1 2 2]\n",
      "[0 1 0 1]\n"
     ]
    }
   ],
   "source": [
    "freqs, times = np.where(peaks)\n",
    "print(freqs)\n",
    "print(times)"
   ]
  },
  {
   "cell_type": "code",
   "execution_count": 32,
   "metadata": {
    "collapsed": true
   },
   "outputs": [],
   "source": [
    "keys_times = list()"
   ]
  },
  {
   "cell_type": "code",
   "execution_count": 27,
   "metadata": {},
   "outputs": [
    {
     "name": "stdout",
     "output_type": "stream",
     "text": [
      "[((array([0, 1, 2, 2]), array([1, 2, 2]), array([ 1, -1,  1])), array([0, 1, 0, 1]))]\n"
     ]
    }
   ],
   "source": [
    "fanout = 2\n",
    "for j in range(fanout - 1):\n",
    "    f1 = freqs[j:len(times)]\n",
    "    f2 = freqs[j + 1:len(times)]\n",
    "    delta_t = times[j + 1:len(times)] - times[j:len(times) - 1]\n",
    "    t1 = times[j:len(times)]\n",
    "    keys_times.append(((f1, f2, delta_t), t1))\n",
    "print(keys_times)"
   ]
  },
  {
   "cell_type": "code",
   "execution_count": 33,
   "metadata": {},
   "outputs": [
    {
     "name": "stdout",
     "output_type": "stream",
     "text": [
      "[((0, 1, 1), 0), ((1, 2, -1), 1), ((2, 2, 1), 0)]\n"
     ]
    }
   ],
   "source": [
    "for j in range(1, fanout):\n",
    "    for i in range(len(times) - 1):\n",
    "        keys_times.append(((freqs[i], freqs[i + j], times[i + j] - times[i]),\n",
    "                            times[i]))\n",
    "print(keys_times)"
   ]
  },
  {
   "cell_type": "code",
   "execution_count": 42,
   "metadata": {},
   "outputs": [
    {
     "data": {
      "text/plain": [
       "[((array([0, 1, 2]), array([1, 2, 2]), array([ 1, -1,  1])), array([0, 1, 0]))]"
      ]
     },
     "execution_count": 42,
     "metadata": {},
     "output_type": "execute_result"
    }
   ],
   "source": [
    "peaks_to_fingerprints(peaks, 2)"
   ]
  },
  {
   "cell_type": "code",
   "execution_count": 36,
   "metadata": {
    "collapsed": true
   },
   "outputs": [],
   "source": [
    "from mygrad import sliding_window_view"
   ]
  },
  {
   "cell_type": "code",
   "execution_count": 38,
   "metadata": {},
   "outputs": [
    {
     "ename": "TypeError",
     "evalue": "object of type 'int' has no len()",
     "output_type": "error",
     "traceback": [
      "\u001b[0;31m---------------------------------------------------------------------------\u001b[0m",
      "\u001b[0;31mTypeError\u001b[0m                                 Traceback (most recent call last)",
      "\u001b[0;32m<ipython-input-38-d9eff64f1bc3>\u001b[0m in \u001b[0;36m<module>\u001b[0;34m()\u001b[0m\n\u001b[0;32m----> 1\u001b[0;31m \u001b[0msliding_window_view\u001b[0m\u001b[0;34m(\u001b[0m\u001b[0mpeaks\u001b[0m\u001b[0;34m,\u001b[0m \u001b[0;36m2\u001b[0m\u001b[0;34m,\u001b[0m \u001b[0;36m2\u001b[0m\u001b[0;34m)\u001b[0m\u001b[0;34m\u001b[0m\u001b[0m\n\u001b[0m",
      "\u001b[0;32m/Users/newannabelle/anaconda3/lib/python3.6/site-packages/MyGrad-0.0-py3.6.egg/mygrad/nnet/layers/utils.py\u001b[0m in \u001b[0;36msliding_window_view\u001b[0;34m(arr, window_shape, step, dilation)\u001b[0m\n\u001b[1;32m    112\u001b[0m         \"\"\"\n\u001b[1;32m    113\u001b[0m \u001b[0;34m\u001b[0m\u001b[0m\n\u001b[0;32m--> 114\u001b[0;31m     \u001b[0mstep\u001b[0m \u001b[0;34m=\u001b[0m \u001b[0mtuple\u001b[0m\u001b[0;34m(\u001b[0m\u001b[0mint\u001b[0m\u001b[0;34m(\u001b[0m\u001b[0mstep\u001b[0m\u001b[0;34m)\u001b[0m \u001b[0;32mfor\u001b[0m \u001b[0mi\u001b[0m \u001b[0;32min\u001b[0m \u001b[0mrange\u001b[0m\u001b[0;34m(\u001b[0m\u001b[0mlen\u001b[0m\u001b[0;34m(\u001b[0m\u001b[0mwindow_shape\u001b[0m\u001b[0;34m)\u001b[0m\u001b[0;34m)\u001b[0m\u001b[0;34m)\u001b[0m \u001b[0;32mif\u001b[0m \u001b[0misinstance\u001b[0m\u001b[0;34m(\u001b[0m\u001b[0mstep\u001b[0m\u001b[0;34m,\u001b[0m \u001b[0mIntegral\u001b[0m\u001b[0;34m)\u001b[0m \u001b[0;32melse\u001b[0m \u001b[0mtuple\u001b[0m\u001b[0;34m(\u001b[0m\u001b[0mstep\u001b[0m\u001b[0;34m)\u001b[0m\u001b[0;34m\u001b[0m\u001b[0m\n\u001b[0m\u001b[1;32m    115\u001b[0m     \u001b[0;32massert\u001b[0m \u001b[0mall\u001b[0m\u001b[0;34m(\u001b[0m\u001b[0misinstance\u001b[0m\u001b[0;34m(\u001b[0m\u001b[0mi\u001b[0m\u001b[0;34m,\u001b[0m \u001b[0mIntegral\u001b[0m\u001b[0;34m)\u001b[0m \u001b[0;32mand\u001b[0m \u001b[0mi\u001b[0m \u001b[0;34m>\u001b[0m \u001b[0;36m0\u001b[0m \u001b[0;32mfor\u001b[0m \u001b[0mi\u001b[0m \u001b[0;32min\u001b[0m \u001b[0mstep\u001b[0m\u001b[0;34m)\u001b[0m\u001b[0;34m,\u001b[0m \u001b[0;34m\"`step` be a sequence of positive integers\"\u001b[0m\u001b[0;34m\u001b[0m\u001b[0m\n\u001b[1;32m    116\u001b[0m \u001b[0;34m\u001b[0m\u001b[0m\n",
      "\u001b[0;31mTypeError\u001b[0m: object of type 'int' has no len()"
     ]
    }
   ],
   "source": [
    "sliding_window_view(peaks, 2, 2)"
   ]
  },
  {
   "cell_type": "code",
   "execution_count": 39,
   "metadata": {},
   "outputs": [
    {
     "data": {
      "text/plain": [
       "array([0, 1, 2])"
      ]
     },
     "execution_count": 39,
     "metadata": {},
     "output_type": "execute_result"
    }
   ],
   "source": [
    "freqs[0:3]"
   ]
  },
  {
   "cell_type": "code",
   "execution_count": 48,
   "metadata": {
    "collapsed": true
   },
   "outputs": [],
   "source": [
    "def peaks_to_fingerprints(peaks, fanout):\n",
    "    # gets two arrays, frequency and time. Use np.where on peaks\n",
    "    freqs, times = np.where(peaks)\n",
    "\n",
    "    # creates list to return\n",
    "    key_times = list()\n",
    "\n",
    "    # creates fanout lists\n",
    "\n",
    "    # for loop for fanout\n",
    "    for j in range(fanout - 1):\n",
    "        f1 = freqs[j:len(times) - j - 1]\n",
    "        f2 = freqs[j + 1:len(times) - j]\n",
    "        delta_t = times[j + 1:len(times) - j] - times[j:len(times) - j - 1]\n",
    "        t1 = times[j:len(times) - j - 1]\n",
    "        for i in range(len(f1)):\n",
    "            key_times.append(((f1[i], f2[i], delta_t[i]), t1[i]))\n",
    "    return keys_times"
   ]
  },
  {
   "cell_type": "code",
   "execution_count": 49,
   "metadata": {},
   "outputs": [
    {
     "data": {
      "text/plain": [
       "[((0, 1, 1), 0), ((1, 2, -1), 1), ((2, 2, 1), 0)]"
      ]
     },
     "execution_count": 49,
     "metadata": {},
     "output_type": "execute_result"
    }
   ],
   "source": [
    "peaks_to_fingerprints(peaks, 2)"
   ]
  },
  {
   "cell_type": "code",
   "execution_count": 50,
   "metadata": {},
   "outputs": [],
   "source": [
    "import databasing\n",
    "def peaks_to_fingerprints(peaks, fanout):\n",
    "    # gets two arrays, frequency and time. Use np.where on peaks\n",
    "    freqs, times = np.where(peaks)\n",
    "\n",
    "    # creates list to return\n",
    "    key_times = list()\n",
    "\n",
    "    # for loop for fanout\n",
    "    for j in range(1, fanout):\n",
    "        f1 = freqs[:len(freqs) - 1] # frequency 1\n",
    "        f2 = freqs[j:] # frequency 2\n",
    "        delta_t = times[j:] - times[:len(times) - 1] # change between time 2 and time 1\n",
    "        t1 = times[:len(times) - 1] # time 1\n",
    "        # loops through each element, MAY NEED TO BE OPTIMIZED\n",
    "        key_times = np.vstack((f1, f2, delta_t, t1)).T\n",
    "        key_times = list(tuple(zip(map(tuple, key_times[:,:3]), key_times[:, 3])))\n",
    "        #key_times.append(((f1[i], f2[i], delta_t[i]), t1[i])) # adds the tuple to the list\n",
    "    return key_times"
   ]
  },
  {
   "cell_type": "code",
   "execution_count": 51,
   "metadata": {},
   "outputs": [
    {
     "data": {
      "text/plain": [
       "[((0, 1, 1), 0), ((1, 2, -1), 1), ((2, 2, 1), 0)]"
      ]
     },
     "execution_count": 51,
     "metadata": {},
     "output_type": "execute_result"
    }
   ],
   "source": [
    "peaks_to_fingerprints(peaks, 2)"
   ]
  },
  {
   "cell_type": "code",
   "execution_count": null,
   "metadata": {
    "collapsed": true
   },
   "outputs": [],
   "source": []
  }
 ],
 "metadata": {
  "kernelspec": {
   "display_name": "Python 3",
   "language": "python",
   "name": "python3"
  },
  "language_info": {
   "codemirror_mode": {
    "name": "ipython",
    "version": 3
   },
   "file_extension": ".py",
   "mimetype": "text/x-python",
   "name": "python",
   "nbconvert_exporter": "python",
   "pygments_lexer": "ipython3",
   "version": "3.6.3"
  }
 },
 "nbformat": 4,
 "nbformat_minor": 2
}
